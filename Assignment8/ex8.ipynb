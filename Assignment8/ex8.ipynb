{
 "cells": [
  {
   "cell_type": "markdown",
   "metadata": {},
   "source": [
    "## Assignment 8\n",
    "\n",
    "### Data preparation\n",
    "\n",
    "Extract data from the zip file \"ex8.zip\"\n",
    "Locate the Austin.aprx file and open it with ArcGIS Pro. Check the maps and databases in the project.\n",
    "Close the project without saving\n"
   ]
  },
  {
   "cell_type": "markdown",
   "metadata": {},
   "source": [
    "### Manipulate the project in VS Code\n",
    "\n",
    "##### Open the project and print some information (10 pnts)\n",
    "\n",
    "In Visual Studio Code, open the ex8 folder as a workspace\n",
    "Create a new notebook in it, and name it as \"ex8.ipynb\"\n",
    "In the frist block, run the following code to get information about the Austin.aprx project file\n",
    "Remember to modify the path name of the project file to make it work\n"
   ]
  },
  {
   "cell_type": "code",
   "execution_count": 11,
   "metadata": {},
   "outputs": [
    {
     "name": "stdout",
     "output_type": "stream",
     "text": [
      "C:\\Users\\smirhe1\\Documents\\ShabnamDoc\\Documents\\LSU\\Semesters\\Fall2024\\GISProgrammingGEOG4057\\Assignments\\Assignment8\\ex8\\Austin_Data.gdb\n"
     ]
    }
   ],
   "source": [
    "import arcpy\n",
    "import os\n",
    "\n",
    "# Modify the path to your project folder here\n",
    "pathname = r\"C:\\Users\\smirhe1\\Documents\\ShabnamDoc\\Documents\\LSU\\Semesters\\Fall2024\\GISProgrammingGEOG4057\\Assignments\\Assignment8\\ex8\"\n",
    "aprx = arcpy.mp.ArcGISProject(os.path.join(pathname, \"Austin.aprx\"))\n",
    "\n",
    "# Print the default geodatabase for the project\n",
    "print(aprx.defaultGeodatabase)\n"
   ]
  },
  {
   "cell_type": "markdown",
   "metadata": {},
   "source": [
    "#### Save a copy of the project (10 pnts)\n",
    "\n",
    "Use the project.saveAsCopy() function to save the project file to a copy of it\n",
    "In the notebook, add a new code block and run the following code\n",
    " Make sure you modify the pathname to fit your current working environment\n"
   ]
  },
  {
   "cell_type": "code",
   "execution_count": 12,
   "metadata": {},
   "outputs": [
    {
     "name": "stdout",
     "output_type": "stream",
     "text": [
      "A copy of the project has been saved as 'Austin_Copy.aprx'\n"
     ]
    }
   ],
   "source": [
    "# Save a copy of the Austin.aprx project file\n",
    "aprx.saveACopy(os.path.join(pathname, 'Austin_Copy.aprx'))\n",
    "print(\"A copy of the project has been saved as 'Austin_Copy.aprx'\")\n"
   ]
  },
  {
   "cell_type": "markdown",
   "metadata": {},
   "source": [
    "#### Examine the new project file (10 pnts)\n",
    "\n",
    "Open the new project file you created in ArcGIS Pro to check the items in the project\n",
    "Is everything the same as the original project? (Compare the difference in the file sizes) and why?\n",
    "\n",
    "##### Ans:\n",
    "\n",
    "- I have Look through the items in the copied version of project(Austin_Copy.aprx) like the layout, maps, and databases are consistent with the original(Austin.aprx).\n",
    "To compare file sizes:\n",
    "- I have Locate both Austin.aprx and Austin_Copy.aprx in your file explorer.\n",
    "- Right-click each file, go to \"Properties,\" and check the file sizes.\n",
    "The difference in size—60 KB for the original (Austin.aprx) versus 48 KB for the copy (Austin_Copy.aprx)—can be due to a few factors:\n",
    "\n",
    "1.Metadata Updates: When ArcGISProject.saveACopy() is used, ArcGIS Pro might exclude certain temporary data or embedded metadata that isn’t essential for the copy. This can result in a slightly smaller file size.\n",
    "\n",
    "2.Item References: If the project has relative path settings enabled, the copied project might skip over some internal references or cache files that were automatically created in the original project. This can make the copy more lightweight.\n",
    "\n",
    "3.Removed Configuration Information: ArcGIS Pro might remove settings unique to the original project, like specific user settings, recent edits, or unsaved session data. This can also reduce file size.\n",
    "\n",
    "\n",
    "Leave the ArcGIS Pro and the project opened because the following instructions will be based on this project\n",
    "Add the notebook you created for this exercise into the project - notebooks\n",
    "Open the added notebook\n"
   ]
  },
  {
   "cell_type": "markdown",
   "metadata": {},
   "source": [
    "### Work with maps\n",
    "Use the following code to print a list of maps in the project (10 pnts)"
   ]
  },
  {
   "cell_type": "code",
   "execution_count": 13,
   "metadata": {},
   "outputs": [
    {
     "name": "stdout",
     "output_type": "stream",
     "text": [
      "Downtown\n",
      "Foot_US\n",
      "County\n",
      "Foot_US\n"
     ]
    }
   ],
   "source": [
    "aprx = arcpy.mp.ArcGISProject('CURRENT')\n",
    "maps = aprx.listMaps()\n",
    "for m in maps:\n",
    "    print(m.name)\n",
    "    print(m.mapUnits)\n",
    "del aprx"
   ]
  },
  {
   "cell_type": "markdown",
   "metadata": {},
   "source": [
    "##### What does del do in the last line? Was the project file deleted?\n",
    "##### Ans:\n",
    "\n",
    "The del aprx line in the code is used to delete the reference to the aprx object from memory. It doesn’t delete the actual project file (Austin_Copy.aprx) on your disk. Instead, it just removes the variable aprx from the Python environment, which can help free up memory and resources, especially when working in environments like Jupyter notebooks or ArcGIS Pro’s Python console."
   ]
  },
  {
   "cell_type": "markdown",
   "metadata": {},
   "source": [
    "##### Use the following code to change the name of a map (10 pnts)"
   ]
  },
  {
   "cell_type": "code",
   "execution_count": 16,
   "metadata": {},
   "outputs": [],
   "source": [
    "aprx = arcpy.mp.ArcGISProject('CURRENT')\n",
    "m = aprx.listMaps(\"Region\")[0]\n",
    "m.name = \"County\"\n",
    "del aprx"
   ]
  },
  {
   "cell_type": "markdown",
   "metadata": {},
   "source": [
    "In the project catelog pane, check the maps to confirm the name is changed\n",
    "\n",
    "##### Ans:\n",
    " i have checked the maps, in Austin.aprx is was Downtown and Region and now for the copy (Austin_Copy.aprx)it is Country and Downtown"
   ]
  },
  {
   "cell_type": "markdown",
   "metadata": {},
   "source": [
    "##### Use the following code to list the layers in a map (10 pnts)"
   ]
  },
  {
   "cell_type": "code",
   "execution_count": 17,
   "metadata": {},
   "outputs": [
    {
     "name": "stdout",
     "output_type": "stream",
     "text": [
      "Map: Downtown\n",
      "Light Gray Reference\n",
      "trees\n",
      "parks\n",
      "base\n",
      "Light Gray Base\n",
      "Map: County\n",
      "facilities\n",
      "hospitals\n",
      "parks\n",
      "Topographic\n"
     ]
    }
   ],
   "source": [
    "aprx = arcpy.mp.ArcGISProject('CURRENT')\n",
    "maps = aprx.listMaps()\n",
    "for m in maps:\n",
    "    print(\"Map: \" + m.name)\n",
    "    lyrs = m.listLayers()\n",
    "    for lyr in lyrs:\n",
    "        print(lyr.name)\n",
    "del aprx"
   ]
  },
  {
   "cell_type": "markdown",
   "metadata": {},
   "source": [
    "Additionally, use the following code to print if a layer is a basemap or a feature layer"
   ]
  },
  {
   "cell_type": "code",
   "execution_count": 18,
   "metadata": {},
   "outputs": [
    {
     "name": "stdout",
     "output_type": "stream",
     "text": [
      "Light Gray Reference is a basemap layer\n",
      "trees is a feature layer\n",
      "parks is a feature layer\n",
      "base is a feature layer\n",
      "Light Gray Base is a basemap layer\n"
     ]
    }
   ],
   "source": [
    "aprx = arcpy.mp.ArcGISProject('CURRENT')\n",
    "m = aprx.listMaps(\"Downtown\")[0]\n",
    "lyrs = m.listLayers()\n",
    "for lyr in lyrs:\n",
    "    if lyr.isBasemapLayer:\n",
    "        print(lyr.name + \" is a basemap layer\")\n",
    "    if lyr.isFeatureLayer:\n",
    "        print(lyr.name + \" is a feature layer\")\n",
    "del aprx\n"
   ]
  },
  {
   "cell_type": "markdown",
   "metadata": {},
   "source": [
    "##### Change the basemap (5 pnts)\n",
    "\n",
    "Use the following code to change the basemap of Downtown\n"
   ]
  },
  {
   "cell_type": "code",
   "execution_count": 19,
   "metadata": {},
   "outputs": [],
   "source": [
    "aprx = arcpy.mp.ArcGISProject('CURRENT')\n",
    "m = aprx.listMaps(\"Downtown\")[0]\n",
    "m.addBasemap(\"Light Gray Canvas\")"
   ]
  },
  {
   "cell_type": "markdown",
   "metadata": {},
   "source": [
    "After running the code, open the map and confirm the basemap is changed\n",
    "\n",
    "##### Ans:\n",
    "\n",
    "Once the map opens, I have realised that by looking at the Map tab at the top of the interface and checking the Basemap gallery i have seen \"Light Gray Canvas\" is selected."
   ]
  },
  {
   "cell_type": "markdown",
   "metadata": {},
   "source": [
    "#### Work with layers\n",
    "##### Modify layer symbology (5 pnts)\n",
    "\n",
    "Run the following code in a block to change the symbology of layers\n"
   ]
  },
  {
   "cell_type": "code",
   "execution_count": 20,
   "metadata": {},
   "outputs": [],
   "source": [
    "aprx = arcpy.mp.ArcGISProject(\"CURRENT\")\n",
    "m = aprx.listMaps(\"Downtown\")[0]\n",
    "lyr = m.listLayers(\"parks\")[0]\n",
    "sym = lyr.symbology\n",
    "green = {\"RGB\": [100, 175, 0, 100]}\n",
    "if lyr.isFeatureLayer and hasattr(sym, \"renderer\"):\n",
    "    sym.renderer.symbol.color = green\n",
    "    lyr.symbology = sym"
   ]
  },
  {
   "cell_type": "markdown",
   "metadata": {},
   "source": [
    "What type is the 'green' variable? What do the numbers in the list mean? If you want to show a brown color, what numbers you would fill it with? Change it in the block and confirm the color is changed to brown.\n",
    "\n",
    "##### Ans:\n",
    "\n",
    "The `green` variable in the code is a **dictionary** that specifies an **RGB color** with an additional **alpha (transparency) value**. Here’s what each component in the list represents:\n",
    "\n",
    "- **RGB** values are used to define colors. The list `[100, 175, 0]` represents the color green.\n",
    "  - The **first number** (100) represents the amount of red.\n",
    "  - The **second number** (175) represents the amount of green.\n",
    "  - The **third number** (0) represents the amount of blue.\n",
    "- The **fourth number** (100) is the **alpha channel**, which determines transparency (0 is fully transparent, 255 is fully opaque).\n",
    "\n",
    "##### To Change to Brown\n",
    "\n",
    "To show a brown color, you could use RGB values typically around `[139, 69, 19]` for a classic brown. Including the transparency value, you would modify `green` to:\n",
    "\n",
    "```python\n",
    "brown = {\"RGB\": [139, 69, 19, 100]}\n",
    "```\n"
   ]
  },
  {
   "cell_type": "markdown",
   "metadata": {},
   "source": [
    "##### updated Code Block for Brown\n",
    "Replace green with brown in your code to apply the new color and the park layer will be brown:"
   ]
  },
  {
   "cell_type": "code",
   "execution_count": 21,
   "metadata": {},
   "outputs": [],
   "source": [
    "aprx = arcpy.mp.ArcGISProject(\"CURRENT\")\n",
    "m = aprx.listMaps(\"Downtown\")[0]\n",
    "lyr = m.listLayers(\"parks\")[0]\n",
    "sym = lyr.symbology\n",
    "brown = {\"RGB\": [139, 69, 19, 100]}  # Change to brown color\n",
    "if lyr.isFeatureLayer and hasattr(sym, \"renderer\"):\n",
    "    sym.renderer.symbol.color = brown\n",
    "    lyr.symbology = sym\n",
    "del aprx\n"
   ]
  },
  {
   "cell_type": "markdown",
   "metadata": {},
   "source": [
    "### Work with a layout\n",
    "\n",
    "##### Add a layout to the project ((5 pnts))\n",
    "\n",
    "Run the following code to create a layout and insert the map \"Downtown\" in the layout\n",
    "\n",
    "##### Note:\n",
    "FOR the following codes I have enconter The error NameError: name 'aprx' is not defined suggests that the aprx object is not initialized in the current session. so i changed the code a bit to make sure I’ve included the code to initialize aprx before running the layout creation code.\n"
   ]
  },
  {
   "cell_type": "code",
   "execution_count": 29,
   "metadata": {},
   "outputs": [],
   "source": [
    "import arcpy\n",
    "\n",
    "# Initialize the project\n",
    "aprx = arcpy.mp.ArcGISProject(\"CURRENT\")\n",
    "\n",
    "# Access the \"Downtown\" map\n",
    "m = aprx.listMaps(\"Downtown\")[0]\n",
    "\n",
    "# Create a new layout with specified size\n",
    "lyt = aprx.createLayout(11, 8.5, 'INCH', 'New Layout with Rectangles')\n",
    "\n",
    "# Function to create a rectangle for the map frame\n",
    "def MakeRec_LL(llx, lly, w, h):\n",
    "    xyRecList = [[llx, lly], [llx, lly + h], [llx + w, lly + h], [llx + w, lly], [llx, lly]]\n",
    "    array = arcpy.Array([arcpy.Point(*coords) for coords in xyRecList])\n",
    "    rec = arcpy.Polygon(array)\n",
    "    return rec\n",
    "\n",
    "# Create the map frame within the layout\n",
    "mf = lyt.createMapFrame(MakeRec_LL(0.5, 0.5, 10, 7.5), m, \"New Map Frame\")\n",
    "\n",
    "# Clean up\n",
    "# del aprx\n"
   ]
  },
  {
   "cell_type": "markdown",
   "metadata": {},
   "source": [
    "\n",
    "What is the size of the layout in inches?\n",
    "What is the size of the map frame?\n",
    "Comparing the layout and map frames you created manually, what are the advantages of creating it in Python?\n",
    "\n",
    "##### Ans:\n",
    "1. **Layout Size in Inches**: The layout is defined as `11 x 8.5 inches` based on the `lyt = aprx.createLayout(11, 8.5, 'INCH', ...)` line.\n",
    "\n",
    "2. **Map Frame Size in Inches**: The map frame size is `10 x 7.5 inches`, as specified in the `MakeRec_LL(0.5, 0.5, 10, 7.5)` function call.\n",
    "\n",
    "3. **Advantages of Creating Layouts and Map Frames in Python**:\n",
    "   - **Automation**: Python allows you to quickly create layouts, especially when you need multiple layouts or standardized templates.\n",
    "   - **Consistency**: Using code ensures that each layout has the exact same dimensions and elements, reducing human error.\n",
    "   - **Dynamic Updates**: Python can dynamically adjust layouts based on data or user inputs, useful for generating reports or map series.\n",
    "\n"
   ]
  },
  {
   "cell_type": "markdown",
   "metadata": {},
   "source": [
    "##### Add layout elements (5 pnts)\n",
    "\n",
    "Run the following code to create a north arrow and a scale bar\n"
   ]
  },
  {
   "cell_type": "code",
   "execution_count": 30,
   "metadata": {},
   "outputs": [],
   "source": [
    "#Create a north arrow\n",
    "naStyle = aprx.listStyleItems('ArcGIS 2D', 'North_Arrow', 'Compass North 1')[0]\n",
    "na = lyt.createMapSurroundElement(arcpy.Point(9.5,7.5), 'North_Arrow', mf,\n",
    "                                      naStyle, \"Compass North Arrow\")\n",
    "na.elementWidth = 0.5  \n",
    "\n",
    "#Create a scale bar\n",
    "sbName = 'Double Alternating Scale Bar 1 Metric'\n",
    "sbStyle = aprx.listStyleItems('ArcGIS 2D', 'Scale_bar', sbName)[0]\n",
    "sbEnv = MakeRec_LL(5.5, 0.1, 4, 0.5)\n",
    "sb = lyt.createMapSurroundElement(sbEnv, 'Scale_bar', mf, sbStyle, 'New Scale Bar')"
   ]
  },
  {
   "cell_type": "markdown",
   "metadata": {},
   "source": [
    "Run the follow code to create a legend"
   ]
  },
  {
   "cell_type": "code",
   "execution_count": 31,
   "metadata": {},
   "outputs": [],
   "source": [
    "legSi = aprx.listStyleItems('ArcGIS 2D', 'LEGEND', 'Legend 3' )[0]\n",
    "leg = lyt.createMapSurroundElement(arcpy.Point(1,7), 'LEGEND', mf, legSi, 'New Legend Element')\n",
    "leg.elementWidth = 3\n",
    "leg.elementHeight = 3\n",
    "leg.fittingStrategy = 'AdjustFontSize'\n",
    "leg.columnCount = 1\n",
    "leg.title = 'Downtown'"
   ]
  },
  {
   "cell_type": "markdown",
   "metadata": {},
   "source": [
    "##### Export the layout to a pdf (10 pnts)\n",
    "\n",
    "Run the following code to export the layout to a pdf file\n"
   ]
  },
  {
   "cell_type": "code",
   "execution_count": 32,
   "metadata": {},
   "outputs": [
    {
     "data": {
      "text/plain": [
       "'C:\\\\Users\\\\smirhe1\\\\Documents\\\\ShabnamDoc\\\\Documents\\\\LSU\\\\Semesters\\\\Fall2024\\\\GISProgrammingGEOG4057\\\\Assignments\\\\Assignment8\\\\ex8\\\\downtown.pdf'"
      ]
     },
     "execution_count": 32,
     "metadata": {},
     "output_type": "execute_result"
    }
   ],
   "source": [
    "lyt.exportToPDF(os.path.join(pathname, 'downtown.pdf'))"
   ]
  },
  {
   "cell_type": "markdown",
   "metadata": {},
   "source": [
    "#### Submission requirements\n",
    "\n",
    "Run through every steps of the instruction\n",
    "\n",
    "In a markdown block following each step, answer questions if any\n",
    "\n",
    "Make sure all the outputs are correct in each block in the Jupyter notebook\n",
    "\n",
    "Submit your notebook and the pdf map expored from the last step to your Github page and provide the link for the TA to evaluate\n",
    "\n",
    "Submit the report ontime (10 pnts)\n"
   ]
  },
  {
   "cell_type": "code",
   "execution_count": null,
   "metadata": {},
   "outputs": [],
   "source": []
  }
 ],
 "metadata": {
  "kernelspec": {
   "display_name": "ArcGISPro",
   "language": "Python",
   "name": "python3"
  },
  "language_info": {
   "file_extension": ".py",
   "name": "python",
   "version": "3"
  }
 },
 "nbformat": 4,
 "nbformat_minor": 2
}
